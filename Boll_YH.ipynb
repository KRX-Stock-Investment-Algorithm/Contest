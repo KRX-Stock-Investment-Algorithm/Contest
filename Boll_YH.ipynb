{
 "cells": [
  {
   "cell_type": "code",
   "execution_count": 1,
   "metadata": {},
   "outputs": [
    {
     "name": "stderr",
     "output_type": "stream",
     "text": [
      "100%|██████████| 2000/2000 [18:17<00:00,  1.82it/s]\n"
     ]
    }
   ],
   "source": [
    "import matplotlib.pyplot as plt\n",
    "import matplotlib\n",
    "import itertools\n",
    "import talib\n",
    "\n",
    "import pandas as pd\n",
    "import numpy as np\n",
    "import random\n",
    "import os\n",
    "from tqdm import tqdm\n",
    "from statsmodels.tsa.arima.model import ARIMA\n",
    "import warnings\n",
    "from sklearn.linear_model import LinearRegression\n",
    "lr = LinearRegression()\n",
    "\n",
    "warnings.filterwarnings(\"ignore\")\n",
    "\n",
    "def seed_everything(seed):\n",
    "    random.seed(seed)\n",
    "    os.environ['PYTHONHASHSEED'] = str(seed)\n",
    "    np.random.seed(seed)\n",
    "\n",
    "seed_everything(42) # Seed 고정\n",
    "\n",
    "#################\n",
    "\n",
    "train = pd.read_csv('./train.csv')\n",
    " \n",
    "# 추론 결과를 저장하기 위한 dataframe 생성\n",
    "results_df = pd.DataFrame()\n",
    "\n",
    "# train 데이터에 존재하는 독립적인 종목코드 추출\n",
    "unique_codes = train['종목코드'].unique()\n",
    "\n",
    "\n",
    "# fig, axes = plt.subplots(5,5,figsize =(20,20))\n",
    "# cnt = 0\n",
    "## 각 종목코드에 대해서 모델 학습 및 추론 반복\n",
    "for code in tqdm(unique_codes):\n",
    "#code = \"A103840\"\n",
    "\n",
    "    # 20일선 가격의 상승분과 비교\n",
    "    train_close = train[train['종목코드'] == code][['일자', '종가', '종목코드']]\n",
    "    #train_close['일자'] = pd.to_datetime(train_close['일자'], format='%Y%m%d')\n",
    "    train_close.set_index(np.arange(len(train_close)), inplace=True)\n",
    "    train_close.columns = ['Date', '종가','종목코드']\n",
    "\n",
    "    w= 20 # 기준 이동평균일 \n",
    "    k= 2 # 기준 상수\n",
    "\n",
    "    #중심선 (MBB) : n일 이동평균선\n",
    "    train_close[\"mbb\"]=train_close[\"종가\"].rolling(w).mean()\n",
    "    train_close[\"MA20_std\"]=train_close[\"종가\"].rolling(w).std()\n",
    "    \n",
    "    #상한선 (UBB) : 중심선 + (표준편차 × K)\n",
    "    #하한선 (LBB) : 중심선 - (표준편차 × K)\n",
    "    train_close[\"ubb\"]=train_close.apply(lambda x: x[\"mbb\"]+k*x[\"MA20_std\"],1)\n",
    "    train_close[\"lbb\"]=train_close.apply(lambda x: x[\"mbb\"]-k*x[\"MA20_std\"],1)\n",
    "    \n",
    "    # train_close[['종가','mbb', 'ubb', 'lbb']][-200:].plot.line()\n",
    "    \n",
    "    #train_close[[\"mbb\",\"MA20_std\",\"ubb\",\"lbb\"]].fillna(0, inplace=True)\n",
    "    train_close[\"percent\"] = pd.Series(map(lambda x, y, z: (z-y)/(x-y)*100 if (x-y)>0 else -1 , train_close[\"ubb\"], train_close[\"lbb\"], train_close[\"종가\"]))\n",
    "    \n",
    "    # x = train_close[\"percent\"].iloc[20:]\n",
    "    # y = train_close[\"종가\"].iloc[20:]\n",
    "    # p = range(0, 5)\n",
    "    # d = range(0, 5)\n",
    "    # pdq = list(itertools.product(p, d))\n",
    "    # axes[pdq[cnt][0], pdq[cnt][1]].scatter(x, y)\n",
    "    # cnt += 1\n",
    "\n",
    "\n",
    "    tc = train_close[\"percent\"]\n",
    "\n",
    "    model = ARIMA(tc, order=(2, 1, 2))\n",
    "    model.initialize_approximate_diffuse() \n",
    "    model_fit = model.fit()\n",
    "    predictions = model_fit.forecast(steps=15) # 향후 15개의 거래일에 대해서 예측\n",
    "\n",
    "    # 최종 수익률 계산: 높은데 예측이 오르면 올라가는 걸로, 높은데 예측이 내리면 내리는 것으로, 낮은데 예측이 내리면 내리는 것으로, 낮은데 예측이 오르면 오르는 것으로  \n",
    "    # final_return = (predictions.iloc[-1] - predictions.iloc[0])*abs(predictions.iloc[0])\n",
    "    # 밑에서 올라가는 것에 가중치: 밑에서 올라가는 것(가중치 최고), 밑에서 내려가는것(가중치 중하), 위에서 올라가는 것(가중치 중상), 위에서 내려가는 것(가중치 최저)\n",
    "    final_return = predictions.iloc[-1]-2*predictions.iloc[0] # 변동폭-첫 예측값을 뺀다. 처음값이 높으면 하락할 가능성이 높다.\n",
    "\n",
    "    \n",
    "\n",
    "\n",
    "    # 결과 저장\n",
    "    results_df = results_df.append({'종목코드': code, 'final_return': final_return}, ignore_index=True)\n",
    "\n",
    "\n",
    "# +로 계속 유지되는것으로 예측되면 순위를 낮추기\n",
    "\n",
    "# p = range(0, 5)\n",
    "# d = range(0, 5)\n",
    "# q = range(0, 5)\n",
    "# pdq = list(itertools.product(p, d, q))\n",
    "\n",
    "# AIC = []\n",
    "# aic = {}\n",
    "# for i in pdq :\n",
    "#     model = ARIMA(tc, order=(i))\n",
    "#     model_fit = model.fit()\n",
    "#     print(f'ARIMA pdq : {i} >> AIC : {round(model_fit.aic, 2)}')\n",
    "#     AIC.append(round(model_fit.aic, 2))\n",
    "#     aic[round(model_fit.aic, 2)] = i\n",
    "\n",
    "# min(aic)\n",
    "\n",
    "results_df['final_return'] = results_df['final_return'].fillna(0)\n",
    "results_df['순위'] = results_df['final_return'].rank(method='first', ascending=False).astype('int') # 각 순위를 중복없이 생성\n",
    "results_df = results_df.sort_values(by='순위')\n",
    "sample_submission = pd.read_csv('./sample_submission.csv')\n",
    "baseline_submission = sample_submission[['종목코드']].merge(results_df[['종목코드', '순위']], on='종목코드', how='right')\n",
    "baseline_submission.to_csv('0725test_submission.csv', index=False)\n"
   ]
  },
  {
   "cell_type": "code",
   "execution_count": 3,
   "metadata": {},
   "outputs": [
    {
     "data": {
      "text/plain": [
       "494    148.033985\n",
       "495    137.250131\n",
       "496    125.295523\n",
       "497    114.355743\n",
       "498    104.795359\n",
       "499     96.546854\n",
       "500     89.456518\n",
       "501     83.368320\n",
       "502     78.142275\n",
       "503     73.656709\n",
       "504     69.806809\n",
       "505     66.502519\n",
       "506     63.666521\n",
       "507     61.232450\n",
       "508     59.143343\n",
       "Name: predicted_mean, dtype: float64"
      ]
     },
     "execution_count": 3,
     "metadata": {},
     "output_type": "execute_result"
    }
   ],
   "source": [
    "predictions"
   ]
  },
  {
   "cell_type": "code",
   "execution_count": 5,
   "metadata": {},
   "outputs": [
    {
     "ename": "ValueError",
     "evalue": "cannot insert level_0, already exists",
     "output_type": "error",
     "traceback": [
      "\u001b[1;31m---------------------------------------------------------------------------\u001b[0m",
      "\u001b[1;31mValueError\u001b[0m                                Traceback (most recent call last)",
      "Cell \u001b[1;32mIn[5], line 5\u001b[0m\n\u001b[0;32m      3\u001b[0m results_df[\u001b[38;5;124m'\u001b[39m\u001b[38;5;124m순위\u001b[39m\u001b[38;5;124m'\u001b[39m] \u001b[38;5;241m=\u001b[39m results_df[\u001b[38;5;124m'\u001b[39m\u001b[38;5;124mfinal_return\u001b[39m\u001b[38;5;124m'\u001b[39m]\u001b[38;5;241m.\u001b[39mrank(method\u001b[38;5;241m=\u001b[39m\u001b[38;5;124m'\u001b[39m\u001b[38;5;124mfirst\u001b[39m\u001b[38;5;124m'\u001b[39m, ascending\u001b[38;5;241m=\u001b[39m\u001b[38;5;28;01mFalse\u001b[39;00m)\u001b[38;5;241m.\u001b[39mastype(\u001b[38;5;124m'\u001b[39m\u001b[38;5;124mint\u001b[39m\u001b[38;5;124m'\u001b[39m) \u001b[38;5;66;03m# 각 순위를 중복없이 생성\u001b[39;00m\n\u001b[0;32m      4\u001b[0m results_df \u001b[38;5;241m=\u001b[39m results_df\u001b[38;5;241m.\u001b[39msort_values(by\u001b[38;5;241m=\u001b[39m\u001b[38;5;124m'\u001b[39m\u001b[38;5;124m순위\u001b[39m\u001b[38;5;124m'\u001b[39m)\n\u001b[1;32m----> 5\u001b[0m results_df \u001b[38;5;241m=\u001b[39m  \u001b[43mresults_df\u001b[49m\u001b[38;5;241;43m.\u001b[39;49m\u001b[43mreset_index\u001b[49m\u001b[43m(\u001b[49m\u001b[43m)\u001b[49m\n\u001b[0;32m      6\u001b[0m sample_submission \u001b[38;5;241m=\u001b[39m pd\u001b[38;5;241m.\u001b[39mread_csv(\u001b[38;5;124m'\u001b[39m\u001b[38;5;124m./sample_submission.csv\u001b[39m\u001b[38;5;124m'\u001b[39m)\n\u001b[0;32m      7\u001b[0m baseline_submission \u001b[38;5;241m=\u001b[39m sample_submission[[\u001b[38;5;124m'\u001b[39m\u001b[38;5;124m종목코드\u001b[39m\u001b[38;5;124m'\u001b[39m]]\u001b[38;5;241m.\u001b[39mmerge(results_df[[\u001b[38;5;124m'\u001b[39m\u001b[38;5;124m종목코드\u001b[39m\u001b[38;5;124m'\u001b[39m, \u001b[38;5;124m'\u001b[39m\u001b[38;5;124m순위\u001b[39m\u001b[38;5;124m'\u001b[39m]], on\u001b[38;5;241m=\u001b[39m\u001b[38;5;124m'\u001b[39m\u001b[38;5;124m종목코드\u001b[39m\u001b[38;5;124m'\u001b[39m, how\u001b[38;5;241m=\u001b[39m\u001b[38;5;124m'\u001b[39m\u001b[38;5;124mleft\u001b[39m\u001b[38;5;124m'\u001b[39m)\n",
      "File \u001b[1;32mc:\\Users\\cyhgp\\anaconda3\\lib\\site-packages\\pandas\\util\\_decorators.py:331\u001b[0m, in \u001b[0;36mdeprecate_nonkeyword_arguments.<locals>.decorate.<locals>.wrapper\u001b[1;34m(*args, **kwargs)\u001b[0m\n\u001b[0;32m    325\u001b[0m \u001b[39mif\u001b[39;00m \u001b[39mlen\u001b[39m(args) \u001b[39m>\u001b[39m num_allow_args:\n\u001b[0;32m    326\u001b[0m     warnings\u001b[39m.\u001b[39mwarn(\n\u001b[0;32m    327\u001b[0m         msg\u001b[39m.\u001b[39mformat(arguments\u001b[39m=\u001b[39m_format_argument_list(allow_args)),\n\u001b[0;32m    328\u001b[0m         \u001b[39mFutureWarning\u001b[39;00m,\n\u001b[0;32m    329\u001b[0m         stacklevel\u001b[39m=\u001b[39mfind_stack_level(),\n\u001b[0;32m    330\u001b[0m     )\n\u001b[1;32m--> 331\u001b[0m \u001b[39mreturn\u001b[39;00m func(\u001b[39m*\u001b[39margs, \u001b[39m*\u001b[39m\u001b[39m*\u001b[39mkwargs)\n",
      "File \u001b[1;32mc:\\Users\\cyhgp\\anaconda3\\lib\\site-packages\\pandas\\core\\frame.py:6361\u001b[0m, in \u001b[0;36mDataFrame.reset_index\u001b[1;34m(self, level, drop, inplace, col_level, col_fill, allow_duplicates, names)\u001b[0m\n\u001b[0;32m   6355\u001b[0m         \u001b[39mif\u001b[39;00m lab \u001b[39mis\u001b[39;00m \u001b[39mnot\u001b[39;00m \u001b[39mNone\u001b[39;00m:\n\u001b[0;32m   6356\u001b[0m             \u001b[39m# if we have the codes, extract the values with a mask\u001b[39;00m\n\u001b[0;32m   6357\u001b[0m             level_values \u001b[39m=\u001b[39m algorithms\u001b[39m.\u001b[39mtake(\n\u001b[0;32m   6358\u001b[0m                 level_values, lab, allow_fill\u001b[39m=\u001b[39m\u001b[39mTrue\u001b[39;00m, fill_value\u001b[39m=\u001b[39mlev\u001b[39m.\u001b[39m_na_value\n\u001b[0;32m   6359\u001b[0m             )\n\u001b[1;32m-> 6361\u001b[0m         new_obj\u001b[39m.\u001b[39;49minsert(\n\u001b[0;32m   6362\u001b[0m             \u001b[39m0\u001b[39;49m,\n\u001b[0;32m   6363\u001b[0m             name,\n\u001b[0;32m   6364\u001b[0m             level_values,\n\u001b[0;32m   6365\u001b[0m             allow_duplicates\u001b[39m=\u001b[39;49mallow_duplicates,\n\u001b[0;32m   6366\u001b[0m         )\n\u001b[0;32m   6368\u001b[0m new_obj\u001b[39m.\u001b[39mindex \u001b[39m=\u001b[39m new_index\n\u001b[0;32m   6369\u001b[0m \u001b[39mif\u001b[39;00m \u001b[39mnot\u001b[39;00m inplace:\n",
      "File \u001b[1;32mc:\\Users\\cyhgp\\anaconda3\\lib\\site-packages\\pandas\\core\\frame.py:4817\u001b[0m, in \u001b[0;36mDataFrame.insert\u001b[1;34m(self, loc, column, value, allow_duplicates)\u001b[0m\n\u001b[0;32m   4811\u001b[0m     \u001b[39mraise\u001b[39;00m \u001b[39mValueError\u001b[39;00m(\n\u001b[0;32m   4812\u001b[0m         \u001b[39m\"\u001b[39m\u001b[39mCannot specify \u001b[39m\u001b[39m'\u001b[39m\u001b[39mallow_duplicates=True\u001b[39m\u001b[39m'\u001b[39m\u001b[39m when \u001b[39m\u001b[39m\"\u001b[39m\n\u001b[0;32m   4813\u001b[0m         \u001b[39m\"\u001b[39m\u001b[39m'\u001b[39m\u001b[39mself.flags.allows_duplicate_labels\u001b[39m\u001b[39m'\u001b[39m\u001b[39m is False.\u001b[39m\u001b[39m\"\u001b[39m\n\u001b[0;32m   4814\u001b[0m     )\n\u001b[0;32m   4815\u001b[0m \u001b[39mif\u001b[39;00m \u001b[39mnot\u001b[39;00m allow_duplicates \u001b[39mand\u001b[39;00m column \u001b[39min\u001b[39;00m \u001b[39mself\u001b[39m\u001b[39m.\u001b[39mcolumns:\n\u001b[0;32m   4816\u001b[0m     \u001b[39m# Should this be a different kind of error??\u001b[39;00m\n\u001b[1;32m-> 4817\u001b[0m     \u001b[39mraise\u001b[39;00m \u001b[39mValueError\u001b[39;00m(\u001b[39mf\u001b[39m\u001b[39m\"\u001b[39m\u001b[39mcannot insert \u001b[39m\u001b[39m{\u001b[39;00mcolumn\u001b[39m}\u001b[39;00m\u001b[39m, already exists\u001b[39m\u001b[39m\"\u001b[39m)\n\u001b[0;32m   4818\u001b[0m \u001b[39mif\u001b[39;00m \u001b[39mnot\u001b[39;00m \u001b[39misinstance\u001b[39m(loc, \u001b[39mint\u001b[39m):\n\u001b[0;32m   4819\u001b[0m     \u001b[39mraise\u001b[39;00m \u001b[39mTypeError\u001b[39;00m(\u001b[39m\"\u001b[39m\u001b[39mloc must be int\u001b[39m\u001b[39m\"\u001b[39m)\n",
      "\u001b[1;31mValueError\u001b[0m: cannot insert level_0, already exists"
     ]
    }
   ],
   "source": [
    "results_df['final_return'] = results_df['final_return'].fillna(0)\n",
    "results_df['final_return'] = abs(results_df['final_return'])\n",
    "results_df['순위'] = results_df['final_return'].rank(method='first', ascending=False).astype('int') # 각 순위를 중복없이 생성\n",
    "results_df = results_df.sort_values(by='순위')\n",
    "results_df =  results_df.reset_index()\n",
    "sample_submission = pd.read_csv('./sample_submission.csv')\n",
    "baseline_submission = sample_submission[['종목코드']].merge(results_df[['종목코드', '순위']], on='종목코드', how='left')\n",
    "baseline_submission.to_csv('0726_2_Boll_test_submission.csv', index=False)"
   ]
  },
  {
   "cell_type": "code",
   "execution_count": 26,
   "metadata": {},
   "outputs": [],
   "source": [
    "results_df = pd.read_csv('0726test_submission.csv')\n",
    "results_df = results_df.sort_values(by='순위')\n",
    "sample_submission = pd.read_csv('./sample_submission.csv')\n",
    "baseline_submission = sample_submission[['종목코드']].merge(results_df[['종목코드', '순위']], on='종목코드', how='right')\n",
    "baseline_submission.to_csv('0726_2_boll_test_submission.csv', index=False)"
   ]
  },
  {
   "cell_type": "code",
   "execution_count": 27,
   "metadata": {},
   "outputs": [
    {
     "data": {
      "text/html": [
       "<div>\n",
       "<style scoped>\n",
       "    .dataframe tbody tr th:only-of-type {\n",
       "        vertical-align: middle;\n",
       "    }\n",
       "\n",
       "    .dataframe tbody tr th {\n",
       "        vertical-align: top;\n",
       "    }\n",
       "\n",
       "    .dataframe thead th {\n",
       "        text-align: right;\n",
       "    }\n",
       "</style>\n",
       "<table border=\"1\" class=\"dataframe\">\n",
       "  <thead>\n",
       "    <tr style=\"text-align: right;\">\n",
       "      <th></th>\n",
       "      <th>종목코드</th>\n",
       "      <th>순위</th>\n",
       "    </tr>\n",
       "  </thead>\n",
       "  <tbody>\n",
       "    <tr>\n",
       "      <th>1803</th>\n",
       "      <td>A270520</td>\n",
       "      <td>1</td>\n",
       "    </tr>\n",
       "    <tr>\n",
       "      <th>156</th>\n",
       "      <td>A003520</td>\n",
       "      <td>2</td>\n",
       "    </tr>\n",
       "    <tr>\n",
       "      <th>1609</th>\n",
       "      <td>A206400</td>\n",
       "      <td>3</td>\n",
       "    </tr>\n",
       "    <tr>\n",
       "      <th>939</th>\n",
       "      <td>A056090</td>\n",
       "      <td>4</td>\n",
       "    </tr>\n",
       "    <tr>\n",
       "      <th>579</th>\n",
       "      <td>A025560</td>\n",
       "      <td>5</td>\n",
       "    </tr>\n",
       "    <tr>\n",
       "      <th>...</th>\n",
       "      <td>...</td>\n",
       "      <td>...</td>\n",
       "    </tr>\n",
       "    <tr>\n",
       "      <th>1057</th>\n",
       "      <td>A069110</td>\n",
       "      <td>1996</td>\n",
       "    </tr>\n",
       "    <tr>\n",
       "      <th>1920</th>\n",
       "      <td>A318020</td>\n",
       "      <td>1997</td>\n",
       "    </tr>\n",
       "    <tr>\n",
       "      <th>948</th>\n",
       "      <td>A057880</td>\n",
       "      <td>1998</td>\n",
       "    </tr>\n",
       "    <tr>\n",
       "      <th>645</th>\n",
       "      <td>A032860</td>\n",
       "      <td>1999</td>\n",
       "    </tr>\n",
       "    <tr>\n",
       "      <th>1641</th>\n",
       "      <td>A215090</td>\n",
       "      <td>2000</td>\n",
       "    </tr>\n",
       "  </tbody>\n",
       "</table>\n",
       "<p>2000 rows × 2 columns</p>\n",
       "</div>"
      ],
      "text/plain": [
       "         종목코드    순위\n",
       "1803  A270520     1\n",
       "156   A003520     2\n",
       "1609  A206400     3\n",
       "939   A056090     4\n",
       "579   A025560     5\n",
       "...       ...   ...\n",
       "1057  A069110  1996\n",
       "1920  A318020  1997\n",
       "948   A057880  1998\n",
       "645   A032860  1999\n",
       "1641  A215090  2000\n",
       "\n",
       "[2000 rows x 2 columns]"
      ]
     },
     "execution_count": 27,
     "metadata": {},
     "output_type": "execute_result"
    }
   ],
   "source": [
    "results_df"
   ]
  },
  {
   "cell_type": "code",
   "execution_count": 26,
   "metadata": {},
   "outputs": [
    {
     "data": {
      "text/plain": [
       "<Axes: >"
      ]
     },
     "execution_count": 26,
     "metadata": {},
     "output_type": "execute_result"
    },
    {
     "data": {
      "image/png": "[encoded data removed]",
      "text/plain": [
       "<Figure size 640x480 with 1 Axes>"
      ]
     },
     "metadata": {},
     "output_type": "display_data"
    }
   ],
   "source": [
    "train_close[['ubb','lbb','종가']].plot.line(subplots=False)"
   ]
  },
  {
   "cell_type": "code",
   "execution_count": 2,
   "metadata": {},
   "outputs": [
    {
     "data": {
      "text/html": [
       "<div>\n",
       "<style scoped>\n",
       "    .dataframe tbody tr th:only-of-type {\n",
       "        vertical-align: middle;\n",
       "    }\n",
       "\n",
       "    .dataframe tbody tr th {\n",
       "        vertical-align: top;\n",
       "    }\n",
       "\n",
       "    .dataframe thead th {\n",
       "        text-align: right;\n",
       "    }\n",
       "</style>\n",
       "<table border=\"1\" class=\"dataframe\">\n",
       "  <thead>\n",
       "    <tr style=\"text-align: right;\">\n",
       "      <th></th>\n",
       "      <th>종목코드</th>\n",
       "      <th>순위</th>\n",
       "    </tr>\n",
       "  </thead>\n",
       "  <tbody>\n",
       "    <tr>\n",
       "      <th>0</th>\n",
       "      <td>A064520</td>\n",
       "      <td>1</td>\n",
       "    </tr>\n",
       "    <tr>\n",
       "      <th>1</th>\n",
       "      <td>A101390</td>\n",
       "      <td>2</td>\n",
       "    </tr>\n",
       "    <tr>\n",
       "      <th>2</th>\n",
       "      <td>A123010</td>\n",
       "      <td>3</td>\n",
       "    </tr>\n",
       "    <tr>\n",
       "      <th>3</th>\n",
       "      <td>A054180</td>\n",
       "      <td>4</td>\n",
       "    </tr>\n",
       "    <tr>\n",
       "      <th>4</th>\n",
       "      <td>A016790</td>\n",
       "      <td>5</td>\n",
       "    </tr>\n",
       "    <tr>\n",
       "      <th>...</th>\n",
       "      <td>...</td>\n",
       "      <td>...</td>\n",
       "    </tr>\n",
       "    <tr>\n",
       "      <th>1995</th>\n",
       "      <td>A032800</td>\n",
       "      <td>1996</td>\n",
       "    </tr>\n",
       "    <tr>\n",
       "      <th>1996</th>\n",
       "      <td>A214270</td>\n",
       "      <td>1997</td>\n",
       "    </tr>\n",
       "    <tr>\n",
       "      <th>1997</th>\n",
       "      <td>A093230</td>\n",
       "      <td>1998</td>\n",
       "    </tr>\n",
       "    <tr>\n",
       "      <th>1998</th>\n",
       "      <td>A263540</td>\n",
       "      <td>1999</td>\n",
       "    </tr>\n",
       "    <tr>\n",
       "      <th>1999</th>\n",
       "      <td>A145210</td>\n",
       "      <td>2000</td>\n",
       "    </tr>\n",
       "  </tbody>\n",
       "</table>\n",
       "<p>2000 rows × 2 columns</p>\n",
       "</div>"
      ],
      "text/plain": [
       "         종목코드    순위\n",
       "0     A064520     1\n",
       "1     A101390     2\n",
       "2     A123010     3\n",
       "3     A054180     4\n",
       "4     A016790     5\n",
       "...       ...   ...\n",
       "1995  A032800  1996\n",
       "1996  A214270  1997\n",
       "1997  A093230  1998\n",
       "1998  A263540  1999\n",
       "1999  A145210  2000\n",
       "\n",
       "[2000 rows x 2 columns]"
      ]
     },
     "execution_count": 2,
     "metadata": {},
     "output_type": "execute_result"
    }
   ],
   "source": [
    "import pandas as pd\n",
    "test1 = pd.read_csv('./0722_9test_submission.csv')\n",
    "test2= pd.read_csv('./base_submission_JE.csv')\n",
    "\n",
    "rank = []\n",
    "for code in tqdm(unique_codes):\n",
    "    rank.append(test1[test1[\"종목코드\"] == code]*(2001-x)*0.70*0.874 + test2[test2[\"종목코드\"]==code]*0.443*0.874, code)\n",
    "\n",
    "result = pd.DataFrame(rank, columns = [\"종목코드\", \"순위\"])   \n",
    "    \n",
    "    \n",
    "    \n",
    "\n",
    "\n",
    "result['순위'] = result['기울기'].rank(method='first', ascending=False).astype('int') # 각 순위를 중복없이 생성\n",
    "result = result.sort_values(by='순위')\n",
    "result.to_csv('./stock_data/0721result.csv', encoding='euc-kr')\n",
    "\n",
    "sample_submission = pd.read_csv('./sample_submission.csv')\n",
    "baseline_submission = sample_submission[['종목코드']].merge(result[['종목코드', '순위']], on='종목코드', how='right')\n",
    "baseline_submission.to_csv('0722_11test_submission.csv', index=False)\n"
   ]
  },
  {
   "cell_type": "code",
   "execution_count": 18,
   "metadata": {},
   "outputs": [
    {
     "name": "stderr",
     "output_type": "stream",
     "text": [
      "100%|██████████| 2000/2000 [00:01<00:00, 1081.06it/s]\n"
     ]
    }
   ],
   "source": [
    "from tqdm import tqdm\n",
    "import pandas as pd\n",
    "test1 = pd.read_csv('./0722_9test_submission.csv')\n",
    "test2= pd.read_csv('./base_submission_JE.csv')\n",
    "train = pd.read_csv('./train.csv')\n",
    "unique_codes = train['종목코드'].unique()\n",
    "\n",
    "rank = []\n",
    "for code in tqdm(unique_codes):\n",
    "    rank.append([code, (2001-int(test1[test1[\"종목코드\"] == code][\"순위\"]))*0.70*0.874 + (2001-int(test2[test2[\"종목코드\"]==code][\"순위\"]))*0.443*0.874])\n",
    "\n",
    "result = pd.DataFrame(rank, columns = [\"종목코드\", \"순위\"])   \n",
    "result\n",
    "\n",
    "\n",
    "result['순위'] = result['순위'].rank(method='first', ascending=False).astype('int') # 각 순위를 중복없이 생성\n",
    "result = result.sort_values(by='순위')\n",
    "result.to_csv('./stock_data/0721result.csv', encoding='euc-kr')\n",
    "\n",
    "sample_submission = pd.read_csv('./sample_submission.csv')\n",
    "baseline_submission = sample_submission[['종목코드']].merge(result[['종목코드', '순위']], on='종목코드', how='right')\n",
    "baseline_submission.to_csv('0724test_submission.csv', index=False)"
   ]
  },
  {
   "cell_type": "code",
   "execution_count": 14,
   "metadata": {},
   "outputs": [
    {
     "data": {
      "text/plain": [
       "1893"
      ]
     },
     "execution_count": 14,
     "metadata": {},
     "output_type": "execute_result"
    }
   ],
   "source": [
    "int(test1[test1[\"종목코드\"] == \"A183490\"][\"순위\"])"
   ]
  }
 ],
 "metadata": {
  "kernelspec": {
   "display_name": "Python 3.10.9 ('base')",
   "language": "python",
   "name": "python3"
  },
  "language_info": {
   "codemirror_mode": {
    "name": "ipython",
    "version": 3
   },
   "file_extension": ".py",
   "mimetype": "text/x-python",
   "name": "python",
   "nbconvert_exporter": "python",
   "pygments_lexer": "ipython3",
   "version": "3.10.9"
  },
  "orig_nbformat": 4,
  "vscode": {
   "interpreter": {
    "hash": "29865f05af80384af78d9233101596088e9d9771dcfe0a2d252f1a59aee54b06"
   }
  }
 },
 "nbformat": 4,
 "nbformat_minor": 2
}
